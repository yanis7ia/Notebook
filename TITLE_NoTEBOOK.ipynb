{
  "metadata": {
    "kernelspec": {
      "name": "python",
      "display_name": "Python (Pyodide)",
      "language": "python"
    },
    "language_info": {
      "codemirror_mode": {
        "name": "python",
        "version": 3
      },
      "file_extension": ".py",
      "mimetype": "text/x-python",
      "name": "python",
      "nbconvert_exporter": "python",
      "pygments_lexer": "ipython3",
      "version": "3.8"
    }
  },
  "nbformat_minor": 4,
  "nbformat": 4,
  "cells": [
    {
      "cell_type": "markdown",
      "source": "# TITLE OF THE NOTEBOOK",
      "metadata": {}
    },
    {
      "cell_type": "markdown",
      "source": "## Introduction",
      "metadata": {}
    },
    {
      "cell_type": "markdown",
      "source": "- Python\n- R",
      "metadata": {}
    },
    {
      "cell_type": "markdown",
      "source": "- Tensorflow\n- dplyr",
      "metadata": {}
    },
    {
      "cell_type": "markdown",
      "source": "\r\n## Data Science Tools\r\n\r\n| Tool | Category | Description |\r\n|---|---|---|\r\n| Jupyter Notebook | Interactive Computing | Web-based environment for creating and sharing documents with live code, equations, visualizations, and text. |\r\n| RStudio | Statistical Computing | Integrated development environment (IDE) for the R programming language, popular for data analysis and visualization. |\r\n| TensorFlow | Machine Learning | Open-source library for building and deploying machine learning models. |\r\n| scikit-learn | Machine Learning | Python library for machine learning, providing various algorithms for classification, regression, clustering, and more. |\r\n| Apache Spark | Big Data Processing | Open-source framework for distributed data processing, enabling large-scale data analysis. |\r\n",
      "metadata": {}
    },
    {
      "cell_type": "markdown",
      "source": "\r\n## Arithmetic Expressions: Examples\r\n\r\nThis section showcases examples of basic arithmetic expressions and their results. We'll explore operations like addition, subtraction, multiplication, division, and modulo. \r\n\r\nLet's dive into some examples:\r\n",
      "metadata": {}
    },
    {
      "cell_type": "code",
      "source": "a = 2\nb = 3\nprint(a+b)\nprint(a*b)",
      "metadata": {
        "trusted": true
      },
      "outputs": [
        {
          "name": "stdout",
          "text": "5\n6\n",
          "output_type": "stream"
        }
      ],
      "execution_count": 2
    },
    {
      "cell_type": "code",
      "source": "def convert(mins):\n    minutes = mins%60\n    hours = int((mins-minutes)/60)\n    print(str(mins)+\" is after conversion \"+str(hours)+\"h\"+str(minutes)+\"min\")\nconvert(430)",
      "metadata": {
        "trusted": true,
        "tags": [],
        "editable": true,
        "slideshow": {
          "slide_type": ""
        }
      },
      "outputs": [
        {
          "name": "stdout",
          "text": "430 is after conversion 7h10min\n",
          "output_type": "stream"
        }
      ],
      "execution_count": 5
    },
    {
      "cell_type": "markdown",
      "source": "## Objectives\r\n\r\n* Objective 1: To achieve...\r\n* Objective 2: To understand...\r\n* Objective 3: To analyzte...",
      "metadata": {}
    },
    {
      "cell_type": "markdown",
      "source": "## Author: Yanis",
      "metadata": {
        "tags": [],
        "editable": true,
        "slideshow": {
          "slide_type": ""
        }
      }
    }
  ]
}